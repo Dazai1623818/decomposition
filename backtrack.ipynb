{
 "cells": [
  {
   "cell_type": "code",
   "execution_count": 3,
   "id": "7aa2fba4",
   "metadata": {},
   "outputs": [
    {
     "name": "stdout",
     "output_type": "stream",
     "text": [
      "\n",
      "Generated CPQ expression:\n",
      " (1◦((1◦((1◦((1◦1⁻)∩id)◦1⁻)∩id)◦1⁻)∩id)◦1⁻)∩id\n"
     ]
    }
   ],
   "source": [
    "def generate_cpq(path_label: str, hops: int) -> str:\n",
    "    \"\"\"\n",
    "    Generate a CPQ-style expression for a symmetric path with return via inverses.\n",
    "    \n",
    "    Examples:\n",
    "    - generate_cpq(\"r4\", 1) → \"(r4◦r4⁻)∩id\"\n",
    "    - generate_cpq(\"r4\", 2) → \"(r4◦((r4◦r4⁻)∩id)◦r4⁻)∩id\"\n",
    "    - generate_cpq(\"r4\", 3) → \"(r4◦(((r4◦((r4◦r4⁻)∩id)◦r4⁻)∩id)◦r4⁻)∩id)\"\n",
    "    \"\"\"\n",
    "    if hops < 1:\n",
    "        raise ValueError(\"Hop count must be at least 1\")\n",
    "\n",
    "    # Base case: single hop\n",
    "    expr = f\"({path_label}◦{path_label}⁻)∩id\"\n",
    "\n",
    "    # Recursive construction for multi-hop returns\n",
    "    for _ in range(1, hops):\n",
    "        expr = f\"({path_label}◦({expr})◦{path_label}⁻)∩id\"\n",
    "\n",
    "    return expr\n",
    "\n",
    "\n",
    "\n",
    "result = generate_cpq(1, 4)\n",
    "print(\"\\nGenerated CPQ expression:\\n\", result)\n"
   ]
  },
  {
   "cell_type": "code",
   "execution_count": null,
   "id": "3be60216",
   "metadata": {},
   "outputs": [],
   "source": []
  }
 ],
 "metadata": {
  "kernelspec": {
   "display_name": "default",
   "language": "python",
   "name": "python3"
  },
  "language_info": {
   "codemirror_mode": {
    "name": "ipython",
    "version": 3
   },
   "file_extension": ".py",
   "mimetype": "text/x-python",
   "name": "python",
   "nbconvert_exporter": "python",
   "pygments_lexer": "ipython3",
   "version": "3.10.13"
  }
 },
 "nbformat": 4,
 "nbformat_minor": 5
}
